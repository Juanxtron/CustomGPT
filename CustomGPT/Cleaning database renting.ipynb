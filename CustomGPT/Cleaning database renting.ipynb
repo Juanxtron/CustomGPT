{
 "cells": [
  {
   "cell_type": "code",
   "execution_count": 2,
   "metadata": {},
   "outputs": [
    {
     "name": "stdout",
     "output_type": "stream",
     "text": [
      "Requirement already satisfied: geopy in c:\\users\\jpcan\\appdata\\local\\programs\\python\\python311\\lib\\site-packages (2.4.1)\n",
      "Requirement already satisfied: geographiclib<3,>=1.52 in c:\\users\\jpcan\\appdata\\local\\programs\\python\\python311\\lib\\site-packages (from geopy) (2.0)\n",
      "Note: you may need to restart the kernel to use updated packages.\n"
     ]
    },
    {
     "name": "stderr",
     "output_type": "stream",
     "text": [
      "\n",
      "[notice] A new release of pip is available: 23.3.2 -> 24.2\n",
      "[notice] To update, run: python.exe -m pip install --upgrade pip\n"
     ]
    }
   ],
   "source": [
    "pip install geopy"
   ]
  },
  {
   "cell_type": "code",
   "execution_count": 17,
   "metadata": {},
   "outputs": [
    {
     "name": "stdout",
     "output_type": "stream",
     "text": [
      "                                              Direccion  \\\n",
      "0                                  CL 119 A 57 60 GJ 95   \n",
      "1                           CL 119 A 57 60 TR 4 AP 1212   \n",
      "2                           CR 58 119 A 98 TR 6 AP 1216   \n",
      "8     CL 166 8H 56 AP 504 IN 2 CON TORRES DEL FERROC...   \n",
      "10                          CL 27 5 78 ANTES CL 27 5 80   \n",
      "...                                                 ...   \n",
      "1362  KR 19         12       84     LC 2 233   CE SA...   \n",
      "1363            CL 115 48 80 AP 503 DIRECCION CATASTRAL   \n",
      "1366              CL 152     54    39    IN 4   AP 1114   \n",
      "1367      KR 48 174B 67 IN 3 AP 310 DIRECCION CATASTRAL   \n",
      "1368  AP 502 ED PRADOS NORTE 3 CL 130 9 45 O DG 129 ...   \n",
      "\n",
      "                                    Direccion_Corregida  \n",
      "0                                    Calle 119A # 57-60  \n",
      "1                                    Calle 119A # 57-60  \n",
      "2                                            CR 58-119A  \n",
      "8     Calle 166 # 8H 56 AP 504 IN 2 CON TORRES DEL F...  \n",
      "10                                      Calle 27 # 5-78  \n",
      "...                                                 ...  \n",
      "1362                     Carrera 19 #         12-84      \n",
      "1363                                  Calle 115 # 48-80  \n",
      "1366                           Calle 152 #     54-39     \n",
      "1367  Carrera 48 # 174B 67 IN 3 AP 310 DIRECCION CAT...  \n",
      "1368          AP 502 ED PRADOS NORTE 3 Calle 130 # 9-45  \n",
      "\n",
      "[542 rows x 2 columns]\n"
     ]
    },
    {
     "name": "stderr",
     "output_type": "stream",
     "text": [
      "C:\\Users\\jpcan\\AppData\\Local\\Temp\\ipykernel_13652\\520509836.py:32: SettingWithCopyWarning: \n",
      "A value is trying to be set on a copy of a slice from a DataFrame.\n",
      "Try using .loc[row_indexer,col_indexer] = value instead\n",
      "\n",
      "See the caveats in the documentation: https://pandas.pydata.org/pandas-docs/stable/user_guide/indexing.html#returning-a-view-versus-a-copy\n",
      "  df_bogota['Direccion_Corregida'] = df_bogota['Direccion'].apply(correct_address_format)\n"
     ]
    }
   ],
   "source": [
    "import pandas as pd\n",
    "import re\n",
    "\n",
    "# Cargar el archivo CSV\n",
    "input_csv = \"C:/Users/jpcan/Downloads/Inmuebles_Disponibles_para_Arrendamiento_con_barrios.csv\"  # Reemplaza con la ruta de tu archivo CSV\n",
    "df = pd.read_csv(input_csv)\n",
    "\n",
    "# Filtrar solo las direcciones que mencionan \"Bogotá\"\n",
    "df_bogota = df[df['Ciudad'].str.contains('Bogotá', case=False, na=False)]\n",
    "\n",
    "# Función para corregir el formato de las direcciones\n",
    "def correct_address_format(address):\n",
    "    # Remplazar \"CL\" y \"KR\" por \"Calle\" y \"Carrera\"\n",
    "    address = re.sub(r'\\bCL\\b', 'Calle', address, flags=re.IGNORECASE)\n",
    "    address = re.sub(r'\\bKR\\b', 'Carrera', address, flags=re.IGNORECASE)\n",
    "    \n",
    "    # Unir la letra (A, B, C, D) con el número anterior si está inmediatamente después\n",
    "    address = re.sub(r'(\\d+)\\s*([A-D])\\b', r'\\1\\2', address)\n",
    "    \n",
    "    # Colocar un espacio y un \"#\" después de \"Calle\" o \"Carrera\"\n",
    "    address = re.sub(r'(Calle|Carrera)\\s*(\\S+)', r'\\1 \\2 #', address, flags=re.IGNORECASE)\n",
    "    \n",
    "    # Unir los números tipo \"57 60\" en \"57-60\"\n",
    "    address = re.sub(r'(\\d+)\\s+(\\d+)', r'\\1-\\2', address)\n",
    "    \n",
    "    # Eliminar los caracteres adicionales después de los números excepto A, B, C o D\n",
    "    address = re.sub(r'(\\d+-\\d+)(\\s*[A-D]?)\\s.*', r'\\1\\2', address)\n",
    "    \n",
    "    return address\n",
    "\n",
    "# Aplicar la corrección a las direcciones\n",
    "df_bogota['Direccion_Corregida'] = df_bogota['Direccion'].apply(correct_address_format)\n",
    "\n",
    "# Imprimir las direcciones corregidas para supervisión\n",
    "print(df_bogota[['Direccion', 'Direccion_Corregida']])\n",
    "\n",
    "# Aquí es donde luego podrías seguir con el proceso de obtener el barrio y generar el nuevo CSV\n",
    "\n",
    "\n"
   ]
  },
  {
   "cell_type": "code",
   "execution_count": 24,
   "metadata": {},
   "outputs": [
    {
     "name": "stderr",
     "output_type": "stream",
     "text": [
      "C:\\Users\\jpcan\\AppData\\Local\\Temp\\ipykernel_13652\\574691353.py:35: SettingWithCopyWarning: \n",
      "A value is trying to be set on a copy of a slice from a DataFrame.\n",
      "Try using .loc[row_indexer,col_indexer] = value instead\n",
      "\n",
      "See the caveats in the documentation: https://pandas.pydata.org/pandas-docs/stable/user_guide/indexing.html#returning-a-view-versus-a-copy\n",
      "  df_bogota['Direccion_Corregida'] = df_bogota['Direccion'].apply(correct_address_format)\n"
     ]
    },
    {
     "name": "stdout",
     "output_type": "stream",
     "text": [
      "                                              Direccion  \\\n",
      "0                                  CL 119 A 57 60 GJ 95   \n",
      "1                           CL 119 A 57 60 TR 4 AP 1212   \n",
      "2                           CR 58 119 A 98 TR 6 AP 1216   \n",
      "8     CL 166 8H 56 AP 504 IN 2 CON TORRES DEL FERROC...   \n",
      "10                          CL 27 5 78 ANTES CL 27 5 80   \n",
      "...                                                 ...   \n",
      "1362  KR 19         12       84     LC 2 233   CE SA...   \n",
      "1363            CL 115 48 80 AP 503 DIRECCION CATASTRAL   \n",
      "1366              CL 152     54    39    IN 4   AP 1114   \n",
      "1367      KR 48 174B 67 IN 3 AP 310 DIRECCION CATASTRAL   \n",
      "1368  AP 502 ED PRADOS NORTE 3 CL 130 9 45 O DG 129 ...   \n",
      "\n",
      "                                    Direccion_Corregida  \n",
      "0                  Calle 119A # 57-60, Bogotá, Colombia  \n",
      "1                  Calle 119A # 57-60, Bogotá, Colombia  \n",
      "2                          CR 58-119A, Bogotá, Colombia  \n",
      "8     Calle 166 # 8H 56 AP 504 IN 2 CON TORRES DEL F...  \n",
      "10                    Calle 27 # 5-78, Bogotá, Colombia  \n",
      "...                                                 ...  \n",
      "1362   Carrera 19 #         12-84    , Bogotá, Colombia  \n",
      "1363                Calle 115 # 48-80, Bogotá, Colombia  \n",
      "1366         Calle 152 #     54-39   , Bogotá, Colombia  \n",
      "1367  Carrera 48 # 174B 67 IN 3 AP 310 DIRECCION CAT...  \n",
      "1368  AP 502 ED PRADOS NORTE 3 Calle 130 # 9-45, Bog...  \n",
      "\n",
      "[542 rows x 2 columns]\n",
      "Archivo guardado como C:/Users/jpcan/Downloads/Inmuebles_Disponibles_para_Arrendamiento_con_barrios_cinco.csv\n"
     ]
    },
    {
     "name": "stderr",
     "output_type": "stream",
     "text": [
      "C:\\Users\\jpcan\\AppData\\Local\\Temp\\ipykernel_13652\\574691353.py:72: SettingWithCopyWarning: \n",
      "A value is trying to be set on a copy of a slice from a DataFrame.\n",
      "Try using .loc[row_indexer,col_indexer] = value instead\n",
      "\n",
      "See the caveats in the documentation: https://pandas.pydata.org/pandas-docs/stable/user_guide/indexing.html#returning-a-view-versus-a-copy\n",
      "  df_bogota['Barrio'] = df_bogota['Direccion_Corregida'].apply(get_neighborhood)\n"
     ]
    }
   ],
   "source": [
    "import pandas as pd\n",
    "import re\n",
    "\n",
    "# Cargar el archivo CSV\n",
    "input_csv = \"C:/Users/jpcan/Downloads/Inmuebles_Disponibles_para_Arrendamiento_con_barrios.csv\"  # Reemplaza con la ruta de tu archivo CSV\n",
    "df = pd.read_csv(input_csv)\n",
    "\n",
    "# Filtrar solo las direcciones que mencionan \"Bogotá\"\n",
    "df_bogota = df[df['Ciudad'].str.contains('Bogotá', case=False, na=False)]\n",
    "\n",
    "# Función para corregir el formato de las direcciones\n",
    "def correct_address_format(address):\n",
    "    # Remplazar \"CL\" y \"KR\" por \"Calle\" y \"Carrera\"\n",
    "    address = re.sub(r'\\bCL\\b', 'Calle', address, flags=re.IGNORECASE)\n",
    "    address = re.sub(r'\\bKR\\b', 'Carrera', address, flags=re.IGNORECASE)\n",
    "    \n",
    "    # Unir la letra (A, B, C, D) con el número anterior si está inmediatamente después\n",
    "    address = re.sub(r'(\\d+)\\s*([A-D])\\b', r'\\1\\2', address)\n",
    "    \n",
    "    # Colocar un espacio y un \"#\" después de \"Calle\" o \"Carrera\"\n",
    "    address = re.sub(r'(Calle|Carrera)\\s*(\\S+)', r'\\1 \\2 #', address, flags=re.IGNORECASE)\n",
    "    \n",
    "    # Unir los números tipo \"57 60\" en \"57-60\"\n",
    "    address = re.sub(r'(\\d+)\\s+(\\d+)', r'\\1-\\2', address)\n",
    "    \n",
    "    # Eliminar los caracteres adicionales después de los números excepto A, B, C o D\n",
    "    address = re.sub(r'(\\d+-\\d+)(\\s*[A-D]?)\\s.*', r'\\1\\2', address)\n",
    "    \n",
    "    # Añadir \", Bogotá, Colombia\" al final de la dirección\n",
    "    address += \", Bogotá, Colombia\"\n",
    "    \n",
    "    return address\n",
    "\n",
    "# Aplicar la corrección a las direcciones\n",
    "df_bogota['Direccion_Corregida'] = df_bogota['Direccion'].apply(correct_address_format)\n",
    "\n",
    "# Imprimir las direcciones corregidas para supervisión\n",
    "print(df_bogota[['Direccion', 'Direccion_Corregida']])\n",
    "\n",
    "# Aquí es donde luego podrías seguir con el proceso de obtener el barrio y generar el nuevo CSV\n",
    "\n",
    "\n",
    "# Aquí es donde luego podrías seguir con el proceso de obtener el barrio y generar el nuevo CSV\n",
    "\n",
    "\n",
    "\n",
    "\n",
    "import pandas as pd\n",
    "from geopy.geocoders import Nominatim\n",
    "\n",
    "# Inicializa el geocodificador\n",
    "geolocator = Nominatim(user_agent=\"geoapiExercises\")\n",
    "\n",
    "# Función para obtener el barrio de una dirección\n",
    "def get_neighborhood(address):\n",
    "    try:\n",
    "        location = geolocator.geocode(address)\n",
    "        if location:\n",
    "            location_detail = geolocator.reverse((location.latitude, location.longitude), exactly_one=True)\n",
    "            if 'suburb' in location_detail.raw['address']:\n",
    "                return location_detail.raw['address']['suburb']\n",
    "            elif 'neighbourhood' in location_detail.raw['address']:\n",
    "                return location_detail.raw['address']['neighbourhood']\n",
    "            elif 'borough' in location_detail.raw['address']:\n",
    "                return location_detail.raw['address']['borough']\n",
    "        return 'Barrio no encontrado'\n",
    "    except Exception as e:\n",
    "        return 'Error'\n",
    "\n",
    "\n",
    "# Crear la nueva columna 'Barrio'\n",
    "df_bogota['Barrio'] = df_bogota['Direccion_Corregida'].apply(get_neighborhood)\n",
    "\n",
    "# Guardar el DataFrame modificado a un nuevo archivo CSV\n",
    "output_csv = \"C:/Users/jpcan/Downloads/Inmuebles_Disponibles_para_Arrendamiento_con_barrios_cinco.csv\"  # Especifica la ruta y nombre para el nuevo archivo CSV\n",
    "df_bogota.to_csv(output_csv, index=False)\n",
    "\n",
    "print(f\"Archivo guardado como {output_csv}\")\n",
    "\n"
   ]
  }
 ],
 "metadata": {
  "kernelspec": {
   "display_name": "Python 3",
   "language": "python",
   "name": "python3"
  },
  "language_info": {
   "codemirror_mode": {
    "name": "ipython",
    "version": 3
   },
   "file_extension": ".py",
   "mimetype": "text/x-python",
   "name": "python",
   "nbconvert_exporter": "python",
   "pygments_lexer": "ipython3",
   "version": "3.11.7"
  }
 },
 "nbformat": 4,
 "nbformat_minor": 2
}
